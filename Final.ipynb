{
 "cells": [
  {
   "cell_type": "markdown",
   "metadata": {},
   "source": [
    "Andrés Osorio Bermúdez\n",
    "Maestría en Automatización Industrial\n",
    "Email: jaaosoriobe@unal.edu.co"
   ]
  },
  {
   "cell_type": "code",
   "execution_count": null,
   "metadata": {},
   "outputs": [],
   "source": [
    "#%% inmporting libraries\n",
    "#from sympy import *\n",
    "import numpy as np\n",
    "#x1 = Symbol('x1')\n",
    "#x2 = Symbol('x2')\n",
    "#y = [x1,x2]\n",
    "#yprime = y.diff(x,2)\n",
    "#yprime\n",
    "\n",
    "#%%\n",
    "n = 200                          #number of iterations\n",
    "\n",
    "M = np.array([[180,0],[0,85]])   #mass matrix according to 5.2.1\n",
    "C = np.array([[44405,-2723],[-2723,5406]])           #damping matrix\n",
    "K = np.array([[12285,-864],[-864,864]]) * (10**4)    #stifness matrix\n",
    "\n",
    "Minv = np.linalg.inv(M)          #inverse of mass matrix\n",
    "I = np.identity(2)               #identity matrix of order 2\n",
    "\n",
    "#Generating matrix model to be optimized\n",
    "A = np.array([[np.zeros((2,2)),I],[-Minv @ K,-Minv @ C]])\n",
    "X = np.array([[1,0],[1,0]])\n",
    "B = np.array([[np.zeros((2,2))],[np.ones((2,2))]])\n",
    "P = np.array([[10],[20]])\n",
    "\n",
    "#%% y = f(x) matrix model\n",
    "y = A@X + B@P\n",
    "\n",
    "for i in range(n):         #iterates over the model n times\n",
    "    grad = np.gradient(y)  #generating the gradient of the function"
   ]
  }
 ],
 "metadata": {
  "kernelspec": {
   "display_name": "Python 3",
   "language": "python",
   "name": "python3"
  },
  "language_info": {
   "codemirror_mode": {
    "name": "ipython",
    "version": 3
   },
   "file_extension": ".py",
   "mimetype": "text/x-python",
   "name": "python",
   "nbconvert_exporter": "python",
   "pygments_lexer": "ipython3",
   "version": "3.7.1"
  }
 },
 "nbformat": 4,
 "nbformat_minor": 2
}
